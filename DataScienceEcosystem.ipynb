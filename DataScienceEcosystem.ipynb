{
  "metadata": {
    "kernelspec": {
      "name": "python",
      "display_name": "Python (Pyodide)",
      "language": "python"
    },
    "language_info": {
      "codemirror_mode": {
        "name": "python",
        "version": 3
      },
      "file_extension": ".py",
      "mimetype": "text/x-python",
      "name": "python",
      "nbconvert_exporter": "python",
      "pygments_lexer": "ipython3",
      "version": "3.8"
    }
  },
  "nbformat_minor": 5,
  "nbformat": 4,
  "cells": [
    {
      "id": "06221f52-3ec0-4d2d-863d-e6ed20a12dbc",
      "cell_type": "markdown",
      "source": "# Data Science Tools and Ecosystem",
      "metadata": {}
    },
    {
      "id": "798f14ae-2cce-4015-b227-5e46bf731eb6",
      "cell_type": "markdown",
      "source": "In this notebook are some elements about things learned in the course Tools from Data Science",
      "metadata": {}
    },
    {
      "id": "9106db44-9c13-4f2a-bcd4-2d118f56d87a",
      "cell_type": "markdown",
      "source": "Popular languages used in Data Science:\n1.  Python \n2.  R\n3.  SQL\n4.  C++\n5.  Java",
      "metadata": {}
    },
    {
      "id": "cb919ce5-0418-4f70-b05f-66a30fa2b0ea",
      "cell_type": "markdown",
      "source": "Some of most used libraries in Data Science:\n1.  TensorFlow.\n2.  NumPy.\n3.  SciPy.\n4.  Keras.\n5.  Pandas.\n6.  Matplotlib.\n7.  Scikit-Learn.\n8.  Pytorch.  ",
      "metadata": {}
    },
    {
      "id": "b45f807f-9f27-457e-8663-cfd27c334606",
      "cell_type": "markdown",
      "source": "|Data Science Tools|\n|---|\n|SAS|\n|TensorFlow|\n|Apache Hadoop|\n",
      "metadata": {}
    },
    {
      "id": "59a05f42-5513-49b4-8313-f7b7c2eed388",
      "cell_type": "markdown",
      "source": "### Examples of arithmetic expression in Python",
      "metadata": {}
    },
    {
      "id": "cf703a5e-90b2-4ad0-b1e9-9e3ce83b5299",
      "cell_type": "code",
      "source": "#this is an example od arithmetic expression\n(3*7)+5",
      "metadata": {
        "trusted": true
      },
      "outputs": [
        {
          "execution_count": 5,
          "output_type": "execute_result",
          "data": {
            "text/plain": "26"
          },
          "metadata": {}
        }
      ],
      "execution_count": 5
    },
    {
      "id": "482cb8a2-d65c-466c-8cc4-5be5b086fb6c",
      "cell_type": "code",
      "source": "#this is an example of time conversion \n180/60",
      "metadata": {
        "trusted": true
      },
      "outputs": [
        {
          "execution_count": 1,
          "output_type": "execute_result",
          "data": {
            "text/plain": "3.0"
          },
          "metadata": {}
        }
      ],
      "execution_count": 1
    },
    {
      "id": "76b0a53a-923c-45cd-b2e4-fe95c59b78b8",
      "cell_type": "markdown",
      "source": "_Objective_\n* List languages for DataScience\n* List libraries for DataScience\n* List DataScience Tools\n* How to write comments in cells",
      "metadata": {}
    },
    {
      "id": "99a0953a-aa91-487b-a7de-c949d61d1078",
      "cell_type": "markdown",
      "source": "## Author\nMarco Moschetta",
      "metadata": {}
    }
  ]
}